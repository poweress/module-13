{
 "cells": [
  {
   "cell_type": "code",
   "execution_count": 1,
   "metadata": {},
   "outputs": [],
   "source": [
    "import pandas as pd\n",
    "import numpy as np\n",
    "import matplotlib.pyplot as np\n",
    "import seaborn as sns\n",
    "# import  plotly\n",
    "import plotly.express as px\n",
    "%matplotlib inline"
   ]
  },
  {
   "cell_type": "code",
   "execution_count": 2,
   "metadata": {},
   "outputs": [
    {
     "ename": "FileNotFoundError",
     "evalue": "[Errno 2] No such file or directory: 'data/covid_df.csv'",
     "output_type": "error",
     "traceback": [
      "\u001b[1;31m---------------------------------------------------------------------------\u001b[0m",
      "\u001b[1;31mFileNotFoundError\u001b[0m                         Traceback (most recent call last)",
      "Cell \u001b[1;32mIn[2], line 1\u001b[0m\n\u001b[1;32m----> 1\u001b[0m covid_df \u001b[39m=\u001b[39m pd\u001b[39m.\u001b[39;49mread_csv(\u001b[39m'\u001b[39;49m\u001b[39mdata/covid_df.csv\u001b[39;49m\u001b[39m'\u001b[39;49m)\n",
      "File \u001b[1;32mc:\\Users\\UserHome\\repository_python\\DS_VS_code\\.venv\\Lib\\site-packages\\pandas\\util\\_decorators.py:211\u001b[0m, in \u001b[0;36mdeprecate_kwarg.<locals>._deprecate_kwarg.<locals>.wrapper\u001b[1;34m(*args, **kwargs)\u001b[0m\n\u001b[0;32m    209\u001b[0m     \u001b[39melse\u001b[39;00m:\n\u001b[0;32m    210\u001b[0m         kwargs[new_arg_name] \u001b[39m=\u001b[39m new_arg_value\n\u001b[1;32m--> 211\u001b[0m \u001b[39mreturn\u001b[39;00m func(\u001b[39m*\u001b[39;49margs, \u001b[39m*\u001b[39;49m\u001b[39m*\u001b[39;49mkwargs)\n",
      "File \u001b[1;32mc:\\Users\\UserHome\\repository_python\\DS_VS_code\\.venv\\Lib\\site-packages\\pandas\\util\\_decorators.py:331\u001b[0m, in \u001b[0;36mdeprecate_nonkeyword_arguments.<locals>.decorate.<locals>.wrapper\u001b[1;34m(*args, **kwargs)\u001b[0m\n\u001b[0;32m    325\u001b[0m \u001b[39mif\u001b[39;00m \u001b[39mlen\u001b[39m(args) \u001b[39m>\u001b[39m num_allow_args:\n\u001b[0;32m    326\u001b[0m     warnings\u001b[39m.\u001b[39mwarn(\n\u001b[0;32m    327\u001b[0m         msg\u001b[39m.\u001b[39mformat(arguments\u001b[39m=\u001b[39m_format_argument_list(allow_args)),\n\u001b[0;32m    328\u001b[0m         \u001b[39mFutureWarning\u001b[39;00m,\n\u001b[0;32m    329\u001b[0m         stacklevel\u001b[39m=\u001b[39mfind_stack_level(),\n\u001b[0;32m    330\u001b[0m     )\n\u001b[1;32m--> 331\u001b[0m \u001b[39mreturn\u001b[39;00m func(\u001b[39m*\u001b[39;49margs, \u001b[39m*\u001b[39;49m\u001b[39m*\u001b[39;49mkwargs)\n",
      "File \u001b[1;32mc:\\Users\\UserHome\\repository_python\\DS_VS_code\\.venv\\Lib\\site-packages\\pandas\\io\\parsers\\readers.py:950\u001b[0m, in \u001b[0;36mread_csv\u001b[1;34m(filepath_or_buffer, sep, delimiter, header, names, index_col, usecols, squeeze, prefix, mangle_dupe_cols, dtype, engine, converters, true_values, false_values, skipinitialspace, skiprows, skipfooter, nrows, na_values, keep_default_na, na_filter, verbose, skip_blank_lines, parse_dates, infer_datetime_format, keep_date_col, date_parser, dayfirst, cache_dates, iterator, chunksize, compression, thousands, decimal, lineterminator, quotechar, quoting, doublequote, escapechar, comment, encoding, encoding_errors, dialect, error_bad_lines, warn_bad_lines, on_bad_lines, delim_whitespace, low_memory, memory_map, float_precision, storage_options)\u001b[0m\n\u001b[0;32m    935\u001b[0m kwds_defaults \u001b[39m=\u001b[39m _refine_defaults_read(\n\u001b[0;32m    936\u001b[0m     dialect,\n\u001b[0;32m    937\u001b[0m     delimiter,\n\u001b[1;32m   (...)\u001b[0m\n\u001b[0;32m    946\u001b[0m     defaults\u001b[39m=\u001b[39m{\u001b[39m\"\u001b[39m\u001b[39mdelimiter\u001b[39m\u001b[39m\"\u001b[39m: \u001b[39m\"\u001b[39m\u001b[39m,\u001b[39m\u001b[39m\"\u001b[39m},\n\u001b[0;32m    947\u001b[0m )\n\u001b[0;32m    948\u001b[0m kwds\u001b[39m.\u001b[39mupdate(kwds_defaults)\n\u001b[1;32m--> 950\u001b[0m \u001b[39mreturn\u001b[39;00m _read(filepath_or_buffer, kwds)\n",
      "File \u001b[1;32mc:\\Users\\UserHome\\repository_python\\DS_VS_code\\.venv\\Lib\\site-packages\\pandas\\io\\parsers\\readers.py:605\u001b[0m, in \u001b[0;36m_read\u001b[1;34m(filepath_or_buffer, kwds)\u001b[0m\n\u001b[0;32m    602\u001b[0m _validate_names(kwds\u001b[39m.\u001b[39mget(\u001b[39m\"\u001b[39m\u001b[39mnames\u001b[39m\u001b[39m\"\u001b[39m, \u001b[39mNone\u001b[39;00m))\n\u001b[0;32m    604\u001b[0m \u001b[39m# Create the parser.\u001b[39;00m\n\u001b[1;32m--> 605\u001b[0m parser \u001b[39m=\u001b[39m TextFileReader(filepath_or_buffer, \u001b[39m*\u001b[39;49m\u001b[39m*\u001b[39;49mkwds)\n\u001b[0;32m    607\u001b[0m \u001b[39mif\u001b[39;00m chunksize \u001b[39mor\u001b[39;00m iterator:\n\u001b[0;32m    608\u001b[0m     \u001b[39mreturn\u001b[39;00m parser\n",
      "File \u001b[1;32mc:\\Users\\UserHome\\repository_python\\DS_VS_code\\.venv\\Lib\\site-packages\\pandas\\io\\parsers\\readers.py:1442\u001b[0m, in \u001b[0;36mTextFileReader.__init__\u001b[1;34m(self, f, engine, **kwds)\u001b[0m\n\u001b[0;32m   1439\u001b[0m     \u001b[39mself\u001b[39m\u001b[39m.\u001b[39moptions[\u001b[39m\"\u001b[39m\u001b[39mhas_index_names\u001b[39m\u001b[39m\"\u001b[39m] \u001b[39m=\u001b[39m kwds[\u001b[39m\"\u001b[39m\u001b[39mhas_index_names\u001b[39m\u001b[39m\"\u001b[39m]\n\u001b[0;32m   1441\u001b[0m \u001b[39mself\u001b[39m\u001b[39m.\u001b[39mhandles: IOHandles \u001b[39m|\u001b[39m \u001b[39mNone\u001b[39;00m \u001b[39m=\u001b[39m \u001b[39mNone\u001b[39;00m\n\u001b[1;32m-> 1442\u001b[0m \u001b[39mself\u001b[39m\u001b[39m.\u001b[39m_engine \u001b[39m=\u001b[39m \u001b[39mself\u001b[39;49m\u001b[39m.\u001b[39;49m_make_engine(f, \u001b[39mself\u001b[39;49m\u001b[39m.\u001b[39;49mengine)\n",
      "File \u001b[1;32mc:\\Users\\UserHome\\repository_python\\DS_VS_code\\.venv\\Lib\\site-packages\\pandas\\io\\parsers\\readers.py:1735\u001b[0m, in \u001b[0;36mTextFileReader._make_engine\u001b[1;34m(self, f, engine)\u001b[0m\n\u001b[0;32m   1733\u001b[0m     \u001b[39mif\u001b[39;00m \u001b[39m\"\u001b[39m\u001b[39mb\u001b[39m\u001b[39m\"\u001b[39m \u001b[39mnot\u001b[39;00m \u001b[39min\u001b[39;00m mode:\n\u001b[0;32m   1734\u001b[0m         mode \u001b[39m+\u001b[39m\u001b[39m=\u001b[39m \u001b[39m\"\u001b[39m\u001b[39mb\u001b[39m\u001b[39m\"\u001b[39m\n\u001b[1;32m-> 1735\u001b[0m \u001b[39mself\u001b[39m\u001b[39m.\u001b[39mhandles \u001b[39m=\u001b[39m get_handle(\n\u001b[0;32m   1736\u001b[0m     f,\n\u001b[0;32m   1737\u001b[0m     mode,\n\u001b[0;32m   1738\u001b[0m     encoding\u001b[39m=\u001b[39;49m\u001b[39mself\u001b[39;49m\u001b[39m.\u001b[39;49moptions\u001b[39m.\u001b[39;49mget(\u001b[39m\"\u001b[39;49m\u001b[39mencoding\u001b[39;49m\u001b[39m\"\u001b[39;49m, \u001b[39mNone\u001b[39;49;00m),\n\u001b[0;32m   1739\u001b[0m     compression\u001b[39m=\u001b[39;49m\u001b[39mself\u001b[39;49m\u001b[39m.\u001b[39;49moptions\u001b[39m.\u001b[39;49mget(\u001b[39m\"\u001b[39;49m\u001b[39mcompression\u001b[39;49m\u001b[39m\"\u001b[39;49m, \u001b[39mNone\u001b[39;49;00m),\n\u001b[0;32m   1740\u001b[0m     memory_map\u001b[39m=\u001b[39;49m\u001b[39mself\u001b[39;49m\u001b[39m.\u001b[39;49moptions\u001b[39m.\u001b[39;49mget(\u001b[39m\"\u001b[39;49m\u001b[39mmemory_map\u001b[39;49m\u001b[39m\"\u001b[39;49m, \u001b[39mFalse\u001b[39;49;00m),\n\u001b[0;32m   1741\u001b[0m     is_text\u001b[39m=\u001b[39;49mis_text,\n\u001b[0;32m   1742\u001b[0m     errors\u001b[39m=\u001b[39;49m\u001b[39mself\u001b[39;49m\u001b[39m.\u001b[39;49moptions\u001b[39m.\u001b[39;49mget(\u001b[39m\"\u001b[39;49m\u001b[39mencoding_errors\u001b[39;49m\u001b[39m\"\u001b[39;49m, \u001b[39m\"\u001b[39;49m\u001b[39mstrict\u001b[39;49m\u001b[39m\"\u001b[39;49m),\n\u001b[0;32m   1743\u001b[0m     storage_options\u001b[39m=\u001b[39;49m\u001b[39mself\u001b[39;49m\u001b[39m.\u001b[39;49moptions\u001b[39m.\u001b[39;49mget(\u001b[39m\"\u001b[39;49m\u001b[39mstorage_options\u001b[39;49m\u001b[39m\"\u001b[39;49m, \u001b[39mNone\u001b[39;49;00m),\n\u001b[0;32m   1744\u001b[0m )\n\u001b[0;32m   1745\u001b[0m \u001b[39massert\u001b[39;00m \u001b[39mself\u001b[39m\u001b[39m.\u001b[39mhandles \u001b[39mis\u001b[39;00m \u001b[39mnot\u001b[39;00m \u001b[39mNone\u001b[39;00m\n\u001b[0;32m   1746\u001b[0m f \u001b[39m=\u001b[39m \u001b[39mself\u001b[39m\u001b[39m.\u001b[39mhandles\u001b[39m.\u001b[39mhandle\n",
      "File \u001b[1;32mc:\\Users\\UserHome\\repository_python\\DS_VS_code\\.venv\\Lib\\site-packages\\pandas\\io\\common.py:856\u001b[0m, in \u001b[0;36mget_handle\u001b[1;34m(path_or_buf, mode, encoding, compression, memory_map, is_text, errors, storage_options)\u001b[0m\n\u001b[0;32m    851\u001b[0m \u001b[39melif\u001b[39;00m \u001b[39misinstance\u001b[39m(handle, \u001b[39mstr\u001b[39m):\n\u001b[0;32m    852\u001b[0m     \u001b[39m# Check whether the filename is to be opened in binary mode.\u001b[39;00m\n\u001b[0;32m    853\u001b[0m     \u001b[39m# Binary mode does not support 'encoding' and 'newline'.\u001b[39;00m\n\u001b[0;32m    854\u001b[0m     \u001b[39mif\u001b[39;00m ioargs\u001b[39m.\u001b[39mencoding \u001b[39mand\u001b[39;00m \u001b[39m\"\u001b[39m\u001b[39mb\u001b[39m\u001b[39m\"\u001b[39m \u001b[39mnot\u001b[39;00m \u001b[39min\u001b[39;00m ioargs\u001b[39m.\u001b[39mmode:\n\u001b[0;32m    855\u001b[0m         \u001b[39m# Encoding\u001b[39;00m\n\u001b[1;32m--> 856\u001b[0m         handle \u001b[39m=\u001b[39m \u001b[39mopen\u001b[39;49m(\n\u001b[0;32m    857\u001b[0m             handle,\n\u001b[0;32m    858\u001b[0m             ioargs\u001b[39m.\u001b[39;49mmode,\n\u001b[0;32m    859\u001b[0m             encoding\u001b[39m=\u001b[39;49mioargs\u001b[39m.\u001b[39;49mencoding,\n\u001b[0;32m    860\u001b[0m             errors\u001b[39m=\u001b[39;49merrors,\n\u001b[0;32m    861\u001b[0m             newline\u001b[39m=\u001b[39;49m\u001b[39m\"\u001b[39;49m\u001b[39m\"\u001b[39;49m,\n\u001b[0;32m    862\u001b[0m         )\n\u001b[0;32m    863\u001b[0m     \u001b[39melse\u001b[39;00m:\n\u001b[0;32m    864\u001b[0m         \u001b[39m# Binary mode\u001b[39;00m\n\u001b[0;32m    865\u001b[0m         handle \u001b[39m=\u001b[39m \u001b[39mopen\u001b[39m(handle, ioargs\u001b[39m.\u001b[39mmode)\n",
      "\u001b[1;31mFileNotFoundError\u001b[0m: [Errno 2] No such file or directory: 'data/covid_df.csv'"
     ]
    }
   ],
   "source": [
    "covid_df = pd.read_csv('data/covid_df.csv')"
   ]
  },
  {
   "cell_type": "code",
   "execution_count": 3,
   "metadata": {},
   "outputs": [
    {
     "ename": "NameError",
     "evalue": "name 'covid_df' is not defined",
     "output_type": "error",
     "traceback": [
      "\u001b[1;31m---------------------------------------------------------------------------\u001b[0m",
      "\u001b[1;31mNameError\u001b[0m                                 Traceback (most recent call last)",
      "Cell \u001b[1;32mIn[3], line 1\u001b[0m\n\u001b[1;32m----> 1\u001b[0m covid_df\u001b[39m.\u001b[39mhead()\n",
      "\u001b[1;31mNameError\u001b[0m: name 'covid_df' is not defined"
     ]
    }
   ],
   "source": [
    "covid_df.head()"
   ]
  },
  {
   "cell_type": "markdown",
   "metadata": {},
   "source": [
    "**БАЗОВАЯ ВИЗУАЛИЗАЦИЯ В PANDAS**"
   ]
  },
  {
   "cell_type": "markdown",
   "metadata": {},
   "source": [
    "***x*** — название признака, который будет отложен по оси абсцисс;\n",
    "\n",
    "***y*** — название признака, который будет отложен по оси ординат;\n",
    "\n",
    "***figsize*** — размер графика (кортеж из ширины и высоты в дюймах);\n",
    "\n",
    "***kind*** —тип визуализации. Основные типы:\n",
    "\n",
    "*'line'* — линейный график (по умолчанию);\n",
    "\n",
    "*'bar'* — столбчатая диаграмма;\n",
    "\n",
    "*'barh'* — горизонтальная столбчатая диаграмма;\n",
    "\n",
    "*'hist'* — гистограмма;\n",
    "\n",
    "*'box'* — коробчатая диаграмма (boxplot);\n",
    "\n",
    "*'pie'* — круговая диаграмма;\n",
    "\n",
    "*'scatter'* — диаграмма рассеяния.\n",
    "\n",
    "***grid*** — отображение сетки (по умолчанию False);\n",
    "\n",
    "***legend*** — отображение легенды (по умолчанию False);\n",
    "\n",
    "***title*** — название графика;\n",
    "\n",
    "***color*** — цвет."
   ]
  },
  {
   "cell_type": "code",
   "execution_count": null,
   "metadata": {},
   "outputs": [],
   "source": [
    "grouped_cases = covid_df.groupby('date')['daily_confirmed'].sum()\n",
    "grouped_cases.plot(\n",
    "    kind='line',\n",
    "    figsize=(12, 4),\n",
    "    title='Ежедневная заболеваемость во времени',\n",
    "    grid = True,\n",
    "    lw=3\n",
    ");"
   ]
  },
  {
   "cell_type": "markdown",
   "metadata": {},
   "source": [
    "Теперь построим гистограмму, которая покажет распределение ежедневной заболеваемости во всём мире. Для этого параметр kind выставляем на значение 'hist'. Параметр bins (корзины) отвечает за число прямоугольников в гистограмме — пусть их будет 10 (попробуйте использовать другие числа, чтобы увидеть разницу)."
   ]
  },
  {
   "cell_type": "code",
   "execution_count": 2,
   "metadata": {},
   "outputs": [
    {
     "ename": "NameError",
     "evalue": "name 'grouped_cases' is not defined",
     "output_type": "error",
     "traceback": [
      "\u001b[1;31m---------------------------------------------------------------------------\u001b[0m",
      "\u001b[1;31mNameError\u001b[0m                                 Traceback (most recent call last)",
      "Cell \u001b[1;32mIn[2], line 1\u001b[0m\n\u001b[1;32m----> 1\u001b[0m grouped_cases\u001b[39m.\u001b[39mplot(\n\u001b[0;32m      2\u001b[0m     kind\u001b[39m=\u001b[39m\u001b[39m'\u001b[39m\u001b[39mhist\u001b[39m\u001b[39m'\u001b[39m,\n\u001b[0;32m      3\u001b[0m     figsize\u001b[39m=\u001b[39m(\u001b[39m10\u001b[39m, \u001b[39m6\u001b[39m),\n\u001b[0;32m      4\u001b[0m     title\u001b[39m=\u001b[39m\u001b[39m'\u001b[39m\u001b[39mРаспределение ежедневной заболеваемости\u001b[39m\u001b[39m'\u001b[39m,\n\u001b[0;32m      5\u001b[0m     grid \u001b[39m=\u001b[39m \u001b[39mTrue\u001b[39;00m,\n\u001b[0;32m      6\u001b[0m     color \u001b[39m=\u001b[39m \u001b[39m'\u001b[39m\u001b[39mgreen\u001b[39m\u001b[39m'\u001b[39m,\n\u001b[0;32m      7\u001b[0m     bins\u001b[39m=\u001b[39m\u001b[39m10\u001b[39m)\n",
      "\u001b[1;31mNameError\u001b[0m: name 'grouped_cases' is not defined"
     ]
    }
   ],
   "source": [
    "grouped_cases.plot(\n",
    "    kind='hist',\n",
    "    figsize=(10, 6),\n",
    "    title='Распределение ежедневной заболеваемости',\n",
    "    grid = True,\n",
    "    color = 'green',\n",
    "    bins=10)\n"
   ]
  },
  {
   "cell_type": "markdown",
   "metadata": {},
   "source": [
    "Давайте построим столбчатую диаграмму, которая покажет ТОП-10 стран по суммарной заболеваемости.\n",
    "\n",
    "Для этого сгруппируем данные по странам и вычислим последний зафиксированный показатель с помощью агрегирующего метода last() — он возвращает последнее значение в столбце DataFrame.\n",
    "\n",
    "Для построения столбчатой диаграммы значение параметра kind выставляем на 'bar'. Параметр colormap отвечает за цветовую гамму графика."
   ]
  },
  {
   "cell_type": "code",
   "execution_count": null,
   "metadata": {},
   "outputs": [],
   "source": [
    "grouped_country = covid_df.groupby(['country'])['confirmed'].last()\n",
    "grouped_country = grouped_country.nlargest(10)\n",
    "grouped_country.plot(\n",
    "    kind='bar',\n",
    "    grid=True,\n",
    "    figsize=(12, 4),\n",
    "    colormap='plasma'\n",
    ");"
   ]
  },
  {
   "cell_type": "markdown",
   "metadata": {},
   "source": [
    "*На диаграмме видно, что лидерами по числу заболевших являются Соединённые Штаты, Индия и Бразилия. Соотношение зафиксированных случаев заражения в остальных странах примерно одинаковое.*"
   ]
  },
  {
   "cell_type": "markdown",
   "metadata": {},
   "source": [
    "А теперь посмотрим, как в этих десяти странах соотносится количество заболевших и умерших от вируса. Для этого отобразим сразу два показателя на столбчатой диаграмме: "
   ]
  },
  {
   "cell_type": "code",
   "execution_count": null,
   "metadata": {},
   "outputs": [],
   "source": [
    "grouped_country = covid_df.groupby(['country'])[['confirmed', 'deaths']].last()\n",
    "grouped_country = grouped_country.nlargest(10, columns=['confirmed'])\n",
    "grouped_country.plot( \n",
    "    kind='bar', \n",
    "    grid=True, \n",
    "    figsize=(12, 4), \n",
    ");"
   ]
  },
  {
   "cell_type": "code",
   "execution_count": null,
   "metadata": {},
   "outputs": [],
   "source": [
    "covid_df.groupby(['country'])['total_vaccinations'].last().nsmallest(10).plot(kind='bar');"
   ]
  },
  {
   "cell_type": "code",
   "execution_count": null,
   "metadata": {},
   "outputs": [],
   "source": [
    "import matplotlib.pyplot as plt\n",
    "import numpy as np\n",
    "plt.style.use('default')\n",
    "N = 5\n",
    "menMeans = (20, 35, 30, 35, -27)\n",
    "womenMeans = (25, 32, 34, 20, -25)\n",
    "menStd = (2, 3, 4, 1, 2)\n",
    "womenStd = (3, 5, 2, 3, 3)\n",
    "ind = np.arange(N)    # the x locations for the groups\n",
    "width = 0.35       # the width of the bars: can also be len(x) sequence\n",
    "fig, ax = plt.subplots()\n",
    "\n",
    "p1 = ax.bar(ind, menMeans, width, yerr=menStd, label='Men')\n",
    "p2 = ax.bar(ind, womenMeans, width,\n",
    "            bottom=menMeans, yerr=womenStd, label='Women')\n",
    "\n",
    "ax.axhline(0, color='grey', linewidth=0.8)\n",
    "ax.set_ylabel('Scores')\n",
    "ax.set_title('Scores by group and gender')\n",
    "ax.set_xticks(ind, labels=['G1', 'G2', 'G3', 'G4', 'G5'])\n",
    "ax.legend()\n",
    "\n",
    "# Label with label_type 'center' instead of the default 'edge'\n",
    "ax.bar_label(p1, label_type='center')\n",
    "ax.bar_label(p2, label_type='center')\n",
    "ax.bar_label(p2)\n",
    "\n",
    "plt.show()"
   ]
  },
  {
   "cell_type": "markdown",
   "metadata": {},
   "source": [
    "Основные параметры метода **scatter()**\n",
    "\n",
    "***x, y*** — последовательности, которые будут отложены по осям абсцисс и ординат;\n",
    "\n",
    "***s*** — размер маркеров;\n",
    "\n",
    "***marker*** — вид маркеров ('o' — точки, '^' — треугольники);\n",
    "\n",
    "***c*** — цвет маркеров."
   ]
  },
  {
   "cell_type": "code",
   "execution_count": null,
   "metadata": {},
   "outputs": [],
   "source": [
    "us_data = covid_df[covid_df['country'] == 'United States']\n",
    "\n",
    "fig = plt.figure(figsize=(8, 4))\n",
    "axes = fig.add_axes([0, 0, 1, 1])\n",
    "axes.scatter(\n",
    "    x=us_data['people_fully_vaccinated'],\n",
    "    y=us_data['daily_confirmed'],\n",
    "    s=20,\n",
    "    marker='+',\n",
    "    c='blue'\n",
    ")"
   ]
  },
  {
   "cell_type": "markdown",
   "metadata": {},
   "source": [
    "Для построения круговых диаграмм в Matplotlib используется метод **pie().**"
   ]
  },
  {
   "cell_type": "markdown",
   "metadata": {},
   "source": [
    "***x***— значения, по которым будет строиться круговая диаграмма;\n",
    "\n",
    "***labels*** — метки, соответствующие значениям;\n",
    "\n",
    "***autopct*** — формат отображения долей на диаграмме *(например, '%.1f%%' означает, что округление будет производиться до первого знака после запятой и при выводе будет указан знак \"%\"; открывающий и закрывающий проценты означают форматирование, а внутренний — вывод знака \"%\")*;\n",
    "\n",
    "***explode*** — последовательность, которая определяет долю смещения сектора от центра для каждого значения из x."
   ]
  },
  {
   "cell_type": "markdown",
   "metadata": {},
   "source": [
    "ТОП-10 комбинаций вакцин (vaccines) по распространённости мы находим с помощью метода value_counts(). Круговую диаграмму строим на полученных значениях, метки для каждого значения — индексы промежуточной таблицы. Будем отображать доли в процентах и округлять их до одного знака после запятой. Самую распространённую вакцину сместим на 10 % от центра:"
   ]
  },
  {
   "cell_type": "code",
   "execution_count": null,
   "metadata": {},
   "outputs": [],
   "source": [
    "vaccine_combinations = covid_df['vaccines'].value_counts()[:10]\n",
    "fig = plt.figure(figsize=(5, 5))\n",
    "axes = fig.add_axes([0, 0, 1, 1])\n",
    "axes.pie(\n",
    "    vaccine_combinations,\n",
    "    labels = vaccine_combinations.index,\n",
    "    autopct = '%.1f%%',\n",
    "    explode = [0.1, 0, 0.1, 0, 0, 0, 0, 0, 0, 0]\n",
    ")"
   ]
  },
  {
   "cell_type": "markdown",
   "metadata": {},
   "source": [
    "Обратите внимание, что диаграмма показывает соотношение только для десяти популярных комбинаций вакцин, а не для всех вакцин в совокупности, что является не совсем корректным для круговой диаграммы, так как она должна отображать единое целое.\n",
    "\n",
    "К тому же наша круговая диаграмма считает количество использований каждой комбинации в таблице, а не количество стран, в которых используется эта комбинация, что также является некорректным.\n",
    "\n",
    "→ Более правильным вариантом в данном случае было бы выделить каждую вакцину в отдельности и посчитать, в скольких странах она используется.\n",
    "\n",
    "Однако для этого нам необходимо будет совершить несколько довольно сложных преобразований:"
   ]
  },
  {
   "cell_type": "markdown",
   "metadata": {},
   "source": [
    "1-Для начала нам необходимо избавиться от пропусков в столбце с вакцинами. Сделаем это с помощью метода dropna(), который удаляет строки, содержащие пропуски в столбце, указанном в параметре subset(). Данный метод мы будем изучать в следующем модуле, посвящённом очистке данных — пока что не вам не стоит заострять на нём внимание:"
   ]
  },
  {
   "cell_type": "code",
   "execution_count": null,
   "metadata": {},
   "outputs": [],
   "source": [
    "combination_not_nan = covid_df.dropna(subset=['vaccines'])"
   ]
  },
  {
   "cell_type": "markdown",
   "metadata": {},
   "source": [
    "2-Полученные данные необходимо сгруппировать по странам (country) и определить последнюю зафиксированную комбинации вакцин в столбце vaccines:"
   ]
  },
  {
   "cell_type": "code",
   "execution_count": null,
   "metadata": {},
   "outputs": [],
   "source": [
    "\n",
    "combination_last = combination_not_nan.groupby(['country'])['vaccines'].last()\n"
   ]
  },
  {
   "cell_type": "markdown",
   "metadata": {},
   "source": [
    "В результате такого преобразования мы получаем Series, значениями которого являются комбинации вакцин, которые использовались в странах в последний день рассматриваемого периода."
   ]
  },
  {
   "cell_type": "code",
   "execution_count": null,
   "metadata": {},
   "outputs": [],
   "source": [
    "display(combination_last)"
   ]
  },
  {
   "cell_type": "markdown",
   "metadata": {},
   "source": [
    "3-Преобразуем данные с помощью метода apply(): применим к столбцу lambda-функцию, в которой будем удалять из строки с комбинациями вакцин пробелы и разделять комбинацию на отдельные составляющие по запятым."
   ]
  },
  {
   "cell_type": "code",
   "execution_count": null,
   "metadata": {},
   "outputs": [],
   "source": [
    "combination_last = combination_last.apply(lambda x: x.replace(' ', '').split(','))"
   ]
  },
  {
   "cell_type": "markdown",
   "metadata": {},
   "source": [
    "В результате в каждой строке столбца получим список с отдельными вакцинами, которые используются в стране:"
   ]
  },
  {
   "cell_type": "code",
   "execution_count": null,
   "metadata": {},
   "outputs": [],
   "source": [
    "combination_last"
   ]
  },
  {
   "cell_type": "markdown",
   "metadata": {},
   "source": [
    "4-Создадим словарь vaccines_dict={}, ключами которого будут являться уникальные вакцины, а значениями — количество стран, в которых они используются. Изначально словарь пустой."
   ]
  },
  {
   "cell_type": "code",
   "execution_count": null,
   "metadata": {},
   "outputs": [],
   "source": [
    "vaccines_dict = {}"
   ]
  },
  {
   "cell_type": "markdown",
   "metadata": {},
   "source": [
    "5-Заполнение словаря реализуем «в лоб» — используя циклы. Во внешнем цикле будем проходиться по всем элементам Series combination_last. На каждой итерации цикла в переменной цикла vaccines_list будет находиться список вакцин, которые используются в стране."
   ]
  },
  {
   "cell_type": "markdown",
   "metadata": {},
   "source": [
    "Во внутреннем цикле будем проходиться по элементам этого списка, вакцинам. Переменную внутреннего цикла назовём vaccine."
   ]
  },
  {
   "cell_type": "markdown",
   "metadata": {},
   "source": [
    "В теле внутреннего цикла проверяем условие, что текущей вакцины ещё нет среди ключей словаря vaccones_dict. Если это условие выполняется, добавляем вакцину в словарь со значением 1. В противном случае увеличиваем текущее количество стран, в которых используется данная вакцина:"
   ]
  },
  {
   "cell_type": "code",
   "execution_count": null,
   "metadata": {},
   "outputs": [],
   "source": [
    "vaccines_dict = {} \n",
    "#создаём цикл по элементам Series combination_last\n",
    "for vaccines_list in combination_last:\n",
    "    #создаём цикл по элементам списка с вакцинами\n",
    "    for vaccine in vaccines_list:\n",
    "        #проверяем условие, что текущей вакцины ещё нет среди ключей словаря\n",
    "        if vaccine not in vaccines_dict:#если условие выполняется\n",
    "            vaccines_dict[vaccine] = 1 #заносим вакцину в словарь со значением 1\n",
    "        else: #в противном случае\n",
    "            vaccines_dict[vaccine] += 1 #увеличивает количество"
   ]
  },
  {
   "cell_type": "markdown",
   "metadata": {},
   "source": [
    "6-В результате работы получаем словарь, который преобразуем в объект Series. Далее выделим семь наиболее популярных вакцин, а остальные обозначим как 'other'. Для этого сортируем Series по убыванию. Вычислим суммарное количество стран, в которых используются вакцины, не попавшие в наш ТОП-7, результат запишем в Series по индексу 'other'.\n",
    "\n",
    "Далее выделим восемь наибольших значений в полученной Series — для них и будем строить круговую диаграмму."
   ]
  },
  {
   "cell_type": "code",
   "execution_count": null,
   "metadata": {},
   "outputs": [],
   "source": [
    "vaccines = pd.Series(vaccines_dict).sort_values(ascending=False)\n",
    "vaccines['other'] = vaccines[7:].sum()\n",
    "vaccines = vaccines.sort_values(ascending=False)[:8]"
   ]
  },
  {
   "cell_type": "markdown",
   "metadata": {},
   "source": [
    "7-Строим круговую диаграмму:"
   ]
  },
  {
   "cell_type": "code",
   "execution_count": null,
   "metadata": {},
   "outputs": [],
   "source": [
    "fig = plt.figure(figsize=(5, 5))\n",
    "axes = fig.add_axes([0, 0, 1, 1])\n",
    "axes.pie(\n",
    "    vaccines,\n",
    "    labels=vaccines.index,\n",
    "    autopct='%.1f%%',\n",
    ")"
   ]
  },
  {
   "cell_type": "code",
   "execution_count": null,
   "metadata": {},
   "outputs": [],
   "source": [
    "#избавляемся от пропусков в столбце с вакцинами\n",
    "combination_not_nan = covid_df.dropna(subset=['vaccines'])\n",
    "#группируем по странам и выбираем последнюю комбинацию вакцин в стране\n",
    "combination_last = combination_not_nan.groupby(['country'])['vaccines'].last() \n",
    "#заменяем пробелы в строках и делим комбинации на отдельные вакцины по запятой\n",
    "combination_last = combination_last.apply(lambda x: x.replace(' ', '').split(',')) \n",
    "#создаём пустой словарь, ключами которого будут вакцины, а значениями — количество стран\n",
    "vaccines_dict = {} \n",
    "#создаём цикл по элементам Series combination_last\n",
    "for vaccines_list in combination_last:\n",
    "    #создаём цикл по элементам списка с вакцинами\n",
    "    for vaccine in vaccines_list:\n",
    "        #проверяем условие, что текущей вакцины ещё нет среди ключей словаря\n",
    "        if vaccine not in vaccines_dict:#если условие выполняется\n",
    "            vaccines_dict[vaccine] = 1 #заносим вакцину в словарь со значением 1\n",
    "        else: #в противном случае\n",
    "            vaccines_dict[vaccine] += 1 #увеличивает количество\n",
    "#преобразуем словарь в Series\n",
    "vaccines = pd.Series(vaccines_dict).sort_values(ascending=False)\n",
    "#выделяем ТОП-7 вакцин и добавляем категорию 'other'\n",
    "vaccines['other'] = vaccines[7:].sum()\n",
    "vaccines = vaccines.sort_values(ascending=False)[:8]\n",
    "#строим круговую диаграмму\n",
    "fig = plt.figure(figsize=(5, 5))\n",
    "axes = fig.add_axes([0, 0, 1, 1])\n",
    "axes.pie(\n",
    "    vaccines,\n",
    "    labels=vaccines.index,\n",
    "    autopct='%.1f%%',\n",
    ");"
   ]
  },
  {
   "cell_type": "markdown",
   "metadata": {},
   "source": [
    "#### ДОБАВЛЕНИЕ ИНФОРМАТИВНОСТИ В ГРАФИКИ\n",
    "\n",
    ">Вы, наверное, заметили, что до этого мы не подписывали графики.\n",
    ">>График не имеет смысла, если без лишних слов непонятно, что на нём изображено. \n",
    ">>Управлять информативностью графика можно с помощью методов координатной плоскости axes. \n",
    "- Перечислим основные из них (не пугайтесь, запоминать их не обязательно — вы всегда сможете подсмотреть их в документации):"
   ]
  },
  {
   "cell_type": "markdown",
   "metadata": {},
   "source": [
    "[axes.set_title()](https://matplotlib.org/stable/api/_as_gen/matplotlib.axes.Axes.set_title.html) — заголовок диаграммы, а также его настройки (например, параметр fontsize отвечает за размер шрифта);\n",
    "\n",
    "[axes.set_xlabel()](https://matplotlib.org/stable/api/_as_gen/matplotlib.axes.Axes.set_xlabel.html) — название оси абсцисс;\n",
    "\n",
    "[axes.set_ylabel()](https://matplotlib.org/stable/api/_as_gen/matplotlib.axes.Axes.set_ylabel.html) — название оси ординат;\n",
    "\n",
    "[axes.set_xticks()](https://matplotlib.org/stable/api/_as_gen/matplotlib.axes.Axes.set_xticks.html) — установка отметок на оси абсцисс;\n",
    "\n",
    "[axes.set_yticks()](https://matplotlib.org/stable/api/_as_gen/matplotlib.axes.Axes.set_yticks.html) — установка отметок на оси ординат;\n",
    "\n",
    "[axes.xaxis.set_tick_params()](https://matplotlib.org/3.2.2/api/_as_gen/matplotlib.axis.XAxis.set_tick_params.html) — управление параметрами отметок на оси абсцисс (например, параметр rotation отвечает за поворот отметок в градусах);\n",
    "[axes.yaxis.set_tick_params()](https://matplotlib.org/3.2.2/api/_as_gen/matplotlib.axis.YAxis.set_tick_params.html) — управление параметрами отметок на оси ординат;\n",
    "\n",
    "[axes.legend()](https://matplotlib.org/stable/api/_as_gen/matplotlib.axes.Axes.legend.html) — отображение легенды;\n",
    "\n",
    "[axes.grid()](https://matplotlib.org/3.1.1/api/_as_gen/matplotlib.axes.Axes.grid.html) — установка сетки.\n"
   ]
  },
  {
   "cell_type": "markdown",
   "metadata": {},
   "source": []
  },
  {
   "cell_type": "code",
   "execution_count": null,
   "metadata": {},
   "outputs": [],
   "source": [
    "line, = ax.plot([1, 2, 3])\n",
    "line.set_label('Label via method')\n",
    "ax.legend()"
   ]
  },
  {
   "cell_type": "code",
   "execution_count": null,
   "metadata": {},
   "outputs": [],
   "source": [
    "covid_df['date_year'] = pd.to_datetime(covid_df['date']).dt.year"
   ]
  },
  {
   "cell_type": "code",
   "execution_count": null,
   "metadata": {},
   "outputs": [],
   "source": [
    "covid_df['date_year']"
   ]
  },
  {
   "cell_type": "code",
   "execution_count": null,
   "metadata": {},
   "outputs": [],
   "source": [
    "from matplotlib.ticker import (MultipleLocator, AutoMinorLocator)"
   ]
  },
  {
   "cell_type": "code",
   "execution_count": null,
   "metadata": {},
   "outputs": [],
   "source": [
    "china_data = covid_df[covid_df['country'] == 'China']\n",
    "china_grouped = china_data.groupby(['date'])[['confirmed', 'active', 'deaths', 'recovered']].sum()\n",
    "\n",
    "# Визуализация графиков\n",
    "fig = plt.figure(figsize=(10, 4))\n",
    "axes = fig.add_axes([0, 0, 1, 1])\n",
    "axes.plot(china_grouped['confirmed'], label='Общее число зафиксированых случаев', lw=1)\n",
    "axes.plot(china_grouped['deaths'], label='Общее число смертей', lw=1)\n",
    "axes.plot(china_grouped['recovered'], label='Общее число выздоровевших пациентов', lw=1)\n",
    "axes.plot(china_grouped['active'], label='Общее число активных случаев', lw=1, linestyle='dashed')\n",
    "\n",
    "# Установка параметров отображения\n",
    "axes.set_title('Статистика Covid-19 в Китае', fontsize=16)\n",
    "axes.set_xlabel('Даты')\n",
    "axes.set_ylabel('Число случаев')\n",
    "axes.set_yticks(range(0, 100000, 10000))\n",
    "axes.xaxis.set_tick_params(rotation=30)\n",
    "axes.xaxis.set_major_locator(MultipleLocator(25))\n",
    "axes.grid()\n",
    "axes.legend()"
   ]
  },
  {
   "cell_type": "code",
   "execution_count": null,
   "metadata": {},
   "outputs": [],
   "source": [
    "china_grouped"
   ]
  },
  {
   "cell_type": "markdown",
   "metadata": {},
   "source": [
    "#### ИСПОЛЬЗОВАНИЕ НЕСКОЛЬКИХ СИСТЕМ КООРДИНАТ"
   ]
  },
  {
   "cell_type": "markdown",
   "metadata": {},
   "source": [
    "→ Вы можете размещать несколько систем координат на одной фигуре, что позволит нам отображать вспомогательную информацию на основном графике.\n",
    "\n",
    "Для добавления второй системы координат необходимо повторно применить к объекту fig метод add_axes, указав новое имя для второй системы координат."
   ]
  },
  {
   "cell_type": "markdown",
   "metadata": {},
   "source": [
    "Основные параметры метода bar()"
   ]
  },
  {
   "cell_type": "markdown",
   "metadata": {},
   "source": [
    "x — названия категорий, которые будут располагаться по оси абсцисс;\n",
    "\n",
    "height — высота столбцов диаграммы, массив из показателей для визуализации (например, среднее, максимальное значение и т. д.);\n",
    "\n",
    "width — ширина столбцов диаграммы;\n",
    "\n",
    "color — цвет."
   ]
  },
  {
   "cell_type": "code",
   "execution_count": null,
   "metadata": {},
   "outputs": [],
   "source": [
    "covid_df.columns"
   ]
  },
  {
   "cell_type": "code",
   "execution_count": null,
   "metadata": {},
   "outputs": [],
   "source": [
    "vacc_country  = covid_df.groupby(['country'])['people_fully_vaccinated'].last().nlargest(5)"
   ]
  },
  {
   "cell_type": "code",
   "execution_count": null,
   "metadata": {},
   "outputs": [],
   "source": [
    "vacc_country "
   ]
  },
  {
   "cell_type": "code",
   "execution_count": null,
   "metadata": {},
   "outputs": [],
   "source": [
    "vacc_country_per_hundred = covid_df.groupby('country')['people_fully_vaccinated_per_hundred'].last().nlargest(5)"
   ]
  },
  {
   "cell_type": "code",
   "execution_count": null,
   "metadata": {},
   "outputs": [],
   "source": [
    "vacc_country_per_hundred"
   ]
  },
  {
   "cell_type": "code",
   "execution_count": null,
   "metadata": {},
   "outputs": [],
   "source": [
    "#визуализация главного графика\n",
    "fig = plt.figure(figsize=(13, 4))\n",
    "main_axes = fig.add_axes([0, 0, 1, 1])\n",
    "main_axes.bar(x = vacc_country.index, height = vacc_country);\n",
    "main_axes.set_ylabel('Число вакцинированных (2 компонент)')\n",
    "main_axes.set_title('Топ 5 стран по числу полностью привитых людей')\n",
    "\n",
    "#визуализация вспомогательного графика\n",
    "insert_axes = fig.add_axes([0.7, 0.7, 0.30, 0.30])\n",
    "insert_axes.bar(x = vacc_country_per_hundred.index, height = vacc_country_per_hundred, width=0.5);\n",
    "insert_axes.set_ylabel('На 100 человек')\n",
    "insert_axes.xaxis.set_tick_params(rotation=45)"
   ]
  },
  {
   "cell_type": "markdown",
   "metadata": {},
   "source": [
    "Примечание. Первые два числовых параметра, указанные при создании систем координат, — это отступ снизу и слева, следующие два — ширина и высота относительно ширины и высоты всего пространства (в долях единицы) для построения графика.\n",
    "\n",
    "Нетрудно заметить, что два представленных рейтинга отличаются: лидером по числу полностью привитых является США, а вот по числу вакцин на 100 человек населения — Сейшелы. В первый список попали страны с большим количеством населения, которое они активно прививают. Во второй список попали маленькие страны, которые проще всего обеспечить вакциной.\n",
    "\n",
    "В наш ТОП не попали страны, которые пользуются однокомпонентной вакциной, например Китай."
   ]
  },
  {
   "cell_type": "markdown",
   "metadata": {},
   "source": [
    "#### SUBPLOTS\n",
    "\n",
    "Создание дополнительных систем координат с помощью метода **add_axes()** полезно, однако используется не так часто.\n",
    "\n",
    "В большинстве случаев для отображения нескольких систем координат используется функция **subplots()**. Она создаёт целую таблицу из систем координат на одной фигуре. Функция возвращает новую фигуру, а также список координатных плоскостей."
   ]
  },
  {
   "cell_type": "markdown",
   "metadata": {},
   "source": [
    "#### Основные параметры метода subplots()\n",
    ">Например, следующий код создаст шесть координатных плоскостей, сведённых в таблицу размера 2x3:"
   ]
  },
  {
   "cell_type": "code",
   "execution_count": null,
   "metadata": {},
   "outputs": [],
   "source": [
    "fig, axes = plt.subplots(nrows=2, ncols=3, figsize=(15, 8))"
   ]
  },
  {
   "cell_type": "markdown",
   "metadata": {},
   "source": [
    ">Теперь, обладая знаниями о методе subplots(), построим три графика:\n",
    "\n",
    ">>Столбчатую диаграмму, которая покажет динамику ежедневной вакцинации в России.\n",
    ">>>Линейный график изменения ежедневной заболеваемости в стране.\n",
    ">>>>Гистограмму ежедневной заболеваемости в стране.\n",
    ">>>>За построение гистограмм в библиотеке Matplotlib отвечает метод **hist()**."
   ]
  },
  {
   "cell_type": "markdown",
   "metadata": {},
   "source": [
    "#### Основные параметры метода **hist()**\n",
    "x — массив чисел, для которого строится гистограмма;\n",
    "\n",
    "bins — число столбцов (корзин);\n",
    "\n",
    "orientation — ориентация гистограммы (по умолчанию 'vertical');\n",
    "\n",
    "color — цвет."
   ]
  },
  {
   "cell_type": "code",
   "execution_count": null,
   "metadata": {},
   "outputs": [],
   "source": [
    "russia_data = covid_df[covid_df['country'] == 'Russia']\n",
    "\n",
    "# визуализация систем координат\n",
    "fig, axes = plt.subplots(nrows=1, ncols=3, figsize=(15, 4))\n",
    "\n",
    "# Столбчатая диограмма\n",
    "axes[0].bar(\n",
    "    x=russia_data['date'],\n",
    "    height=russia_data['daily_vaccinations'],\n",
    "    label='Число вакцинированных'\n",
    ")\n",
    "axes[0].set_title('Ежедневная вакцинация в России')\n",
    "axes[0].xaxis.set_tick_params(rotation=90)\n",
    "axes[0].xaxis.set_major_locator(MultipleLocator(20))\n",
    "\n",
    "# Линейный график\n",
    "axes[1].plot(\n",
    "    russia_data[\"date\"],\n",
    "    russia_data[\"daily_confirmed\"],\n",
    "    label=\"Число заболевших\",\n",
    "    color=\"tomato\",\n",
    "    lw=2\n",
    ")\n",
    "axes[1].set_title('Ежедневная заболеваемость в России')\n",
    "axes[1].xaxis.set_tick_params(rotation=90)\n",
    "axes[1].xaxis.set_major_locator(MultipleLocator(35))\n",
    "\n",
    "# Гистограмма\n",
    "axes[2].hist(\n",
    "    x=russia_data[\"daily_confirmed\"], label=[\"Число заболевших\"], color=\"lime\", bins=20\n",
    ")\n",
    "axes[2].set_title('Гистограмма заболеваемости в России')\n",
    "axes[2].xaxis.set_tick_params(rotation=90)"
   ]
  },
  {
   "cell_type": "markdown",
   "metadata": {},
   "source": [
    "На первом графике можно наблюдать колеблющийся рост числа ежедневно вакцинированных людей. Особенно в глаза бросается «пенёк» в период с конца января до начала марта 2021 года. Это период, когда данные о процессе вакцинации людей не обновлялись.\n",
    "\n",
    "На втором графике мы видим две волны коронавируса в России. Первая — в середине марта 2020 года, которая достигла максимума в 13 тысяч заболевших за сутки. Вторая волна, судя по графику, началась в октябре 2020 года и достигла своего пика почти в 30 тысяч заболевших за сутки в конце декабря этого же года (точные данные: 24 декабря было зафиксировано рекордное число подтверждённых случаев: 29935).\n",
    "\n",
    "Далее с ростом показателей вакцинации и введением новых карантинных мер заболеваемость снова постепенно снижается.\n",
    "\n",
    "На третьем графике можно увидеть, что большая часть наблюдений ежедневной заболеваемости находится в интервале от 5 до до 10 тысяч человек в день. Ещё один пик гистограммы находится около 0 — это случаи, зафиксированные на начальных этапах эпидемии (в Россию Covid-19 пришёл позже, чем во многие другие страны)."
   ]
  },
  {
   "cell_type": "markdown",
   "metadata": {},
   "source": [
    "**Если вам вдруг понадобится какая-то особенная функциональность Matplotlib, которую мы не рассматривали, рекомендуем поискать её в**[документации по библиотеке.](https://matplotlib.org/)"
   ]
  },
  {
   "cell_type": "markdown",
   "metadata": {},
   "source": [
    "# 6. Графические возможности библиотеки Seaborn"
   ]
  },
  {
   "cell_type": "markdown",
   "metadata": {},
   "source": [
    "### Основные параметры метода histplot()"
   ]
  },
  {
   "cell_type": "markdown",
   "metadata": {},
   "source": [
    "***data*** — DataFrame, по которому строится график;\n",
    "\n",
    "***x*** — признак, который будет отложен по оси абсцисс;\n",
    "\n",
    "***y*** — признак, который будет отложен по оси ординат;\n",
    "\n",
    "***hue*** — группировочный категориальный признак, который позволяет строить отдельный график для каждой категории (не стоит использовать его для гистограмм, но он широко используется для других видов графиков в Seaborn);\n",
    "\n",
    "***ax*** — система координат Matplotlib, в которой строится график;\n",
    "\n",
    "***color*** — цвет графика;\n",
    "\n",
    "***bins*** — число столбцов в гистограмме (по умолчанию вычисляется автоматически с помощью специальных формул);\n",
    "\n",
    "***kde*** — параметр, указывающий, стоит ли сглаживать гистограмму кривой (по умолчанию False)."
   ]
  },
  {
   "cell_type": "code",
   "execution_count": null,
   "metadata": {},
   "outputs": [],
   "source": [
    "countries = ['Russia', 'Australia', 'Germany', 'Canada', 'United Kingdom']\n",
    "croped_covid_df = covid_df[covid_df['country'].isin(countries)]\n",
    "\n",
    "populations = pd.DataFrame([\n",
    "    ['Canada', 37664517],\n",
    "    ['Germany', 83721496],\n",
    "    ['Russia', 145975300],\n",
    "    ['Australia', 25726900],\n",
    "    ['United Kingdom', 67802690]\n",
    "    ],\n",
    "    columns=['country', 'population']\n",
    ")\n",
    "croped_covid_df = croped_covid_df.merge(populations, on=['country'])\n",
    "croped_covid_df['daily_confirmed_per_hundred'] = croped_covid_df['daily_confirmed'] / croped_covid_df['population'] * 100\n",
    "croped_covid_df.head()"
   ]
  },
  {
   "cell_type": "code",
   "execution_count": null,
   "metadata": {},
   "outputs": [],
   "source": [
    "fig, axes = plt.subplots(nrows=2, ncols=1, figsize=(10, 8))\n",
    "sns.histplot( \n",
    "    data=croped_covid_df,\n",
    "    x='daily_confirmed_per_hundred',\n",
    "    bins=25,\n",
    "    kde=True,\n",
    "    ax=axes[0]\n",
    ");\n",
    "axes[0].set_title('Гистограмма ежедневной заболеваемости на 100 человек', fontsize=18)\n",
    "sns.histplot(\n",
    "    data=croped_covid_df,\n",
    "    x='daily_confirmed_per_hundred',\n",
    "    y='country',\n",
    "    bins=25,\n",
    "    color='red',\n",
    "    ax=axes[1]\n",
    ");\n"
   ]
  },
  {
   "cell_type": "markdown",
   "metadata": {},
   "source": [
    "Общая гистограмма показывает, что ежедневная заболеваемость в выбранных странах не превышает 0.1 % от общего количества населения, причём большая часть наблюдений сосредоточена около 0. \n",
    "\n",
    "Также отчётливо видны аномалии — маленькие «пеньки», где заболеваемость отрицательная.\n",
    "\n",
    "Гистограмма по странам показывает, какой вклад в общее распределение вносит заболеваемость в каждой из стран по отдельности. Например, ясно, что пик около нуля на общей гистограмме в основном задаётся Австралией, так как в ней ежедневная заболеваемость не превышала 0.005 % от общего числа населения (около 1.5 тыс. человек в день) и все наблюдения сосредоточены в двух интервалах. Чуть больший разброс по числу фиксируемых в день случаев имеет Россия, затем идут Канада, Германия и Великобритания.\n",
    "\n",
    "Отличительной особенностью распределения для России и Великобритании является то, что для них характерен больший процент заболевших (самая тёмная отметка находится правее, чем у других стран).\n",
    "\n",
    "Наконец, видно, что аномальная отрицательная заболеваемость принадлежит Великобритании. Об аномалиях, их поиске как с помощью визуализации, так и иными методами мы ещё будем говорить в модуле по очистке данных."
   ]
  },
  {
   "cell_type": "code",
   "execution_count": null,
   "metadata": {},
   "outputs": [],
   "source": [
    "fig = plt.figure(figsize=(10, 7))\n",
    "boxplot = sns.boxplot(\n",
    "    data= croped_covid_df,\n",
    "    y='country',\n",
    "    x='death_rate',\n",
    "    orient= 'h',\n",
    "    width=0.9\n",
    "\n",
    ")\n",
    "boxplot.set_title('Распределение летальности по странам')\n",
    "boxplot.set_xlabel('Летальность')\n",
    "boxplot.set_ylabel('Страна')\n",
    "boxplot.grid()"
   ]
  },
  {
   "cell_type": "code",
   "execution_count": null,
   "metadata": {},
   "outputs": [],
   "source": [
    "croped_covid_df['date'] = pd.to_datetime(croped_covid_df['date'])"
   ]
  },
  {
   "cell_type": "code",
   "execution_count": null,
   "metadata": {},
   "outputs": [],
   "source": [
    "fig = plt.figure(figsize=(10, 7))\n",
    "croped_covid_df['quarter'] = croped_covid_df['date'].dt.quarter\n",
    "barplot = sns.barplot(\n",
    "    data=croped_covid_df,\n",
    "    x='country',\n",
    "    y='daily_confirmed_per_hundred',\n",
    "    hue='quarter'\n",
    ")\n",
    "barplot.set_title('Средний процент болеющего населения по кварталам', fontsize=16)"
   ]
  },
  {
   "cell_type": "markdown",
   "metadata": {},
   "source": [
    "Диаграмма показывает, как зависит средний ежедневный процент заболевших от страны и квартала. Отчётливо видно, что во всех странах (кроме Австралии), большинство людей заболевают в четвёртом квартале (**октябрь, ноябрь, декабрь**), когда иммунитет особенно ослаблен, а наименьшее число заболевших соответствует третьему кварталу (**июль, август, сентябрь**)."
   ]
  },
  {
   "cell_type": "markdown",
   "metadata": {},
   "source": [
    "Построим один из самых любимых дата-сайентистами графиков — [jointplot()](https://seaborn.pydata.org/generated/seaborn.jointplot.html) — в котором совмещены диаграмма рассеяния и гистограмма. Это довольно удобный и полезный инструмент, когда мы хотим одновременно посмотреть и на распределения переменных, и сразу оценить их взаимосвязь."
   ]
  },
  {
   "cell_type": "code",
   "execution_count": null,
   "metadata": {},
   "outputs": [],
   "source": [
    "jointplot = sns.jointplot(\n",
    "    data=croped_covid_df, \n",
    "    x='people_fully_vaccinated_per_hundred', \n",
    "    y='daily_confirmed_per_hundred',\n",
    "    hue='country',\n",
    "    xlim = (0, 40),\n",
    "    ylim = (0, 0.08),\n",
    "    height=8\n",
    ")"
   ]
  },
  {
   "cell_type": "code",
   "execution_count": null,
   "metadata": {},
   "outputs": [],
   "source": [
    "pivot = croped_covid_df.pivot_table(\n",
    "    values='people_vaccinated_per_hundred',\n",
    "    columns='date',\n",
    "    index='country',\n",
    ")\n",
    "pivot.columns = pivot.columns.astype('string')\n",
    "display(pivot)"
   ]
  },
  {
   "cell_type": "code",
   "execution_count": null,
   "metadata": {},
   "outputs": [],
   "source": [
    "heatmap = sns.heatmap(data=pivot, cmap='YlGnBu')\n",
    "heatmap.set_title('Тепловая карта вакцинации', fontsize=16)"
   ]
  },
  {
   "cell_type": "markdown",
   "metadata": {},
   "source": [
    "По тепловой карте легко можно понять, в каких странах темпы вакцинации выше, а в каких — ниже. Согласно легенде справа, чем ближе цвет полосы к синему, тем больше процент вакцинированных людей. Чем быстрее полоса переходит от блёклого жёлтого к насыщенному синему, тем выше темп вакцинации. Белые полосы обозначают отсутствие информации за данный период.\n",
    "\n",
    "Так, можно судить, что наиболее активно кампания по вакцинации проходила в Великобритании, и на конец периода число вакцинированных первым компонентом людей в стране превысило отметку в 50 % от общего числа населения. В Канаде вакцинация населения вначале проходила медленнее, однако к концу периода наблюдений общий процент вакцинированных первым компонентом сравнялся с Великобританией.\n",
    "\n",
    "Темпы вакцинации в России и Австралии гораздо ниже: здесь число привитых на конец периода составляет около 10 % от общего числа населения.\n",
    "\n",
    "При этом с помощью тепловой карты мы смогли увидеть, что в данных о вакцинации в России, Великобритании и Австралии содержатся пропуски, и мы даже можем узнать, за какие периоды, посмотрев на ось абсцисс."
   ]
  },
  {
   "cell_type": "code",
   "execution_count": null,
   "metadata": {},
   "outputs": [],
   "source": [
    "croped_covid_df.head()"
   ]
  },
  {
   "cell_type": "code",
   "execution_count": null,
   "metadata": {},
   "outputs": [],
   "source": [
    "croped_covid_df['confirmed_per_hundred'] = croped_covid_df['confirmed'] / croped_covid_df['population'] * 100"
   ]
  },
  {
   "cell_type": "code",
   "execution_count": null,
   "metadata": {},
   "outputs": [],
   "source": [
    "sns.barplot(\n",
    "    data=croped_covid_df,\n",
    "    x='country',\n",
    "    y='total_vaccinations_per_hundred',\n",
    "    estimator=max\n",
    ")"
   ]
  },
  {
   "cell_type": "code",
   "execution_count": null,
   "metadata": {},
   "outputs": [],
   "source": [
    "croped_covid_df.head()"
   ]
  },
  {
   "cell_type": "code",
   "execution_count": null,
   "metadata": {},
   "outputs": [],
   "source": [
    "pivots = croped_covid_df.pivot_table(\n",
    "    values='confirmed_per_hundred',\n",
    "    columns='date',\n",
    "    index='country',\n",
    ")\n",
    "pivots.columns = pivots.columns.astype('string')\n",
    "display(pivots)"
   ]
  },
  {
   "cell_type": "code",
   "execution_count": null,
   "metadata": {},
   "outputs": [],
   "source": [
    "heatmap = sns.heatmap(data=pivots, cmap='YlGnBu')\n",
    "heatmap.set_title('число заболевших в процентах от общего числа населения', fontsize=16);"
   ]
  },
  {
   "cell_type": "code",
   "execution_count": null,
   "metadata": {},
   "outputs": [],
   "source": [
    "fig = plt.figure(figsize=(10, 7))\n",
    "boxplot = sns.boxplot(\n",
    "    data= croped_covid_df,\n",
    "    y='country',\n",
    "    x='recover_rate ',\n",
    "    orient= 'h',\n",
    "    width=0.9\n",
    "\n",
    ")\n",
    "boxplot.set_title('отношение выздоровлений к числу зафиксированных случаев заболевания в процентах')\n",
    "boxplot.set_xlabel('%')\n",
    "boxplot.set_ylabel('Страна')\n",
    "boxplot.grid()"
   ]
  },
  {
   "cell_type": "code",
   "execution_count": null,
   "metadata": {},
   "outputs": [],
   "source": [
    "print(plotly.__version__)"
   ]
  },
  {
   "cell_type": "markdown",
   "metadata": {},
   "source": [
    "Библиотека [Plotly](https://plotly.com/python/) является сравнительно новым коммерческим продуктом с бесплатной версией, который создавался специально для Data Science, в отличие от относительно старой библиотеки Matplotlib, которая изначально разрабатывалась для научных вычислений."
   ]
  },
  {
   "cell_type": "markdown",
   "metadata": {},
   "source": [
    "**Plotly** позволяет строить графики в нескольких режимах. Мы рассмотрим самый новый и подающий надежды — экспресс-режим. Его функциональность скромнее, чем у полного режима Plotly, но нам её будет более чем достаточно. Для работы в экспресс-режиме предназначен модуль plotly.express. Он был выпущен в марте 2019 года и находится в процессе активной разработки.\n",
    "\n",
    "→ Работа с plotly.express напоминает работу с библиотекой Seaborn. Отличие лишь в том, что все настройки графика (размеры, подписи осей, текста на графике) прописываются в самом методе."
   ]
  },
  {
   "cell_type": "markdown",
   "metadata": {},
   "source": [
    "#### С помощью экспресс-режима (px) можно строить уже знакомые нам графики:\n",
    "\n",
    ">line() — линейные графики;\n",
    "\n",
    ">histogram() — гистограммы;\n",
    "\n",
    ">scatter() — диаграммы рассеяния;\n",
    "\n",
    ">box() — коробчатые диаграммы;\n",
    "\n",
    ">bar() — столбчатые диаграммы;\n",
    "\n",
    ">pie() — круговые диаграммы.\n",
    "\n",
    "Также есть множество других графиков — их список вы можете посмотреть в [документации](https://plotly.com/python/)."
   ]
  },
  {
   "cell_type": "markdown",
   "metadata": {},
   "source": [
    "Примечание. Дальнейшая работа будет вестись с таблицей covid_df — полными данными о статистике распространения вируса Covid-19, а также о вакцинации в разных странах.\n",
    "\n",
    "Рассмотрим процесс визуализации на примере. Посмотрим, как выглядит линейный график, построенный с помощью метода [line()](https://plotly.com/python-api-reference/generated/plotly.express.line) из модуля express. В документации к методу приведена пара десятков его параметров (они схожи с параметрами других методов) — мы приведём основные из них."
   ]
  },
  {
   "cell_type": "markdown",
   "metadata": {},
   "source": [
    "### Основные параметры метода line()\n",
    "\n",
    "data_frame — DataFrame, по которому строится график;\n",
    "\n",
    "x — признак по оси абсцисс;\n",
    "\n",
    "y — признак по оси ординат;\n",
    "\n",
    "height — высота графика;\n",
    "\n",
    "width — ширина графика;\n",
    "\n",
    "title — название графика."
   ]
  },
  {
   "cell_type": "markdown",
   "metadata": {},
   "source": [
    "Построим график роста зафиксированного числа случаев заражения (confirmed), смертей (deaths), выздоровлений (recovered) и активных случаев (active) за всё время. Для этого просуммируем статистику по дням и передадим полученный DataFrame в метод line().\n",
    "\n",
    "#### Для отображения созданной методом line() фигуры используется метод fig.show():"
   ]
  },
  {
   "cell_type": "code",
   "execution_count": null,
   "metadata": {},
   "outputs": [],
   "source": [
    "line_data = covid_df.groupby('date', as_index=False).sum()\n",
    "fig = px.line(\n",
    "    data_frame = line_data,\n",
    "    x='date',\n",
    "    y=['confirmed', 'recovered', 'deaths', 'active'],\n",
    "    height=500,\n",
    "    width=1000,\n",
    "    title='Confirmed, Recovered, Deaths, Active cases over Time'\n",
    ")\n",
    "fig.show()"
   ]
  },
  {
   "cell_type": "markdown",
   "metadata": {},
   "source": [
    "В результате мы получаем график, который позволяет:\n",
    "\n",
    "получать значения признака в отдельных точках в интерактивном режиме (наведите мышку на точку на графике, чтобы посмотреть информацию о её координатах);\n",
    "регулировать отображения конкретных признаков с помощью легенды (отключать и включать данные признаки без изменения кода);\n",
    "увеличивать фрагменты, выделяя их мышкой или приближая колёсиком мышки;\n",
    "сохранять полученный график в формате PNG напрямую из Jupyter Notebook (нажмите на иконку фотоаппарата рядом с графиком)."
   ]
  },
  {
   "cell_type": "markdown",
   "metadata": {},
   "source": [
    "Давайте рассмотрим ещё один пример — построим столбчатую диаграмму, показывающую ТОП-10 стран по среднему проценту выздоравливающих пациентов (recover_rate). Для этого используем метод bar() модуля express. Добавим несколько параметров:\n",
    "\n",
    "color — группирующий признак, в соответствии с которым будут раскрашены столбцы диаграммы;\n",
    "\n",
    "text — текст, который будет подписан на столбцах диаграммы;\n",
    "\n",
    "orientation — ориентация графика ('v' — вертикальная, 'h' — горизонтальная)."
   ]
  },
  {
   "cell_type": "code",
   "execution_count": null,
   "metadata": {},
   "outputs": [],
   "source": [
    "bar_data = covid_df.groupby(\n",
    "    by='country',\n",
    "    as_index=False\n",
    ")[['recover_rate']].mean().round(2).nlargest(10, columns=['recover_rate'])\n",
    "# Строим график\n",
    "fig = px.bar(\n",
    "    data_frame=bar_data,\n",
    "    x='country',\n",
    "    y='recover_rate',\n",
    "    color='country',\n",
    "    text='recover_rate',\n",
    "    orientation='v',\n",
    "    height=500,\n",
    "    width=1000,\n",
    "    title='Top 10 Conries for Recovery Rate'\n",
    ")\n",
    "fig.show()"
   ]
  },
  {
   "cell_type": "markdown",
   "metadata": {},
   "source": [
    "Примечание. В полученных данных вы можете увидеть «страну» Diamond Princess. Напомним, что это круизный лайнер, на котором в начале февраля 2020 года выявили заражённого Covid-19, после чего все пассажиры оказались изолированы на судне из-за карантинных мер. Последние пассажиры сошли на берег лишь 1 марта. Подробнее об этом инциденте вы можете прочитать [здесь](https://www.news-medical.net/news/20210913/An-investigation-of-SARS-CoV-2-infections-among-Australian-passengers-on-the-Diamond-Princess-cruise-ship.aspx)."
   ]
  },
  {
   "cell_type": "markdown",
   "metadata": {},
   "source": [
    "### Основные параметры метода treemap()\n",
    "\n",
    "data_frame — DataFrame, по которому строится график;\n",
    "\n",
    "path — категориальные признаки (их может быть несколько), в разрезе которых строится диаграмма;\n",
    "\n",
    "values — показатель, по которому рассчитываются размеры прямоугольников."
   ]
  },
  {
   "cell_type": "code",
   "execution_count": null,
   "metadata": {},
   "outputs": [],
   "source": [
    "# считаем среднее ежедневно фиксируемое количество выздоровевших по странам\n",
    "treemap_data = covid_df.groupby(\n",
    "    by='country',\n",
    "    as_index=False\n",
    ")[['daily_recovered']].mean()\n",
    "\n",
    "# строим график\n",
    "fig = px.treemap(\n",
    "    data_frame=treemap_data,\n",
    "    path=['country'],\n",
    "    values='daily_recovered',\n",
    "    height=500,\n",
    "    width=1000,\n",
    "    title='Daily Recovered Cases by Country'\n",
    ")\n",
    "fig.show()"
   ]
  },
  {
   "cell_type": "markdown",
   "metadata": {},
   "source": [
    "### АНИМАЦИЯ ГРАФИКОВ ВО ВРЕМЕНИ\n",
    "\n",
    "С помощью plotly.express можно строить даже анимированные графики. Мы рассмотрим только базовые приёмы анимации, но на самом деле это очень интересная и глубокая тема. Если вы захотите, то сможете ознакомиться с ней более детально [здесь](https://plotly.com/python/animations/) и [здесь](https://www.geeksforgeeks.org/animated-data-visualization-using-plotly-express/).\n",
    "\n",
    "Для нашей задачи отлично подойдёт график под названием [choropleth()](https://plotly.com/python-api-reference/generated/plotly.express.choropleth.html) (тепловая картограмма) — это тепловая карта, которая строится на географической карте мира. Чтобы увидеть, как изменяется значение показателя на карте во времени, можно добавить в график анимацию."
   ]
  },
  {
   "cell_type": "markdown",
   "metadata": {},
   "source": [
    "### Основные параметры метода choropleth()\n",
    "\n",
    "data_frame — DataFrame, по которому строится график;\n",
    "\n",
    "locations — название столбца, из которого берутся локации (столбец со странами или регионами);\n",
    "\n",
    "locationmode — режим геопривязки; определяет, как будет производиться сопоставление данных с картой в Plotly (возможно сопоставление по названию страны, \"country_name\", или по её трёхзначному шифру, согласно международному стандарту ISO-3);\n",
    "\n",
    "range_color — диапазон изменения цвета;\n",
    "\n",
    "animation_frame — анимирующий признак, изменяя который, мы получаем визуализацию во времени;\n",
    "\n",
    "color_continuous_scale — цветовая палитра."
   ]
  },
  {
   "cell_type": "code",
   "execution_count": null,
   "metadata": {},
   "outputs": [],
   "source": [
    "choropleth_data = covid_df.sort_values(by='date')\n",
    "choropleth_data['date'] = choropleth_data['date'].astype('string')\n",
    "\n",
    "# Строим график\n",
    "fig = px.choropleth(\n",
    "    data_frame=choropleth_data,\n",
    "    locations='country',\n",
    "    locationmode='country names',\n",
    "    color='confirmed',\n",
    "    animation_frame='date',\n",
    "    range_color=[0, 30e6],\n",
    "    title='Global Spread of COVID-19',\n",
    "    width=800,\n",
    "    height=500,\n",
    "    color_continuous_scale='Reds'\n",
    ")\n",
    "fig.show()"
   ]
  },
  {
   "cell_type": "markdown",
   "metadata": {},
   "source": [
    "## ТРЁХМЕРНАЯ ВИЗУАЛИЗАЦИЯ\n",
    "На самом деле общий принцип построения 3D-графиков ничем не отличается от построения обычных. Просто добавляется ещё один параметр — ось z (ось аппликат).\n",
    "Давайте рассмотрим пример.\n",
    "\n",
    "Построим 3D-диаграмму рассеяния, которая покажет, как число ежедневно обнаруживаемых случаев и число ежедневных смертей влияют на желание людей вакцинироваться. Для того чтобы нам было проще рассматривать диаграмму (точки будут более сгруппированными), построим её в логарифмическом масштабе по осям абсцисс и ординат.\n",
    "\n",
    "Для построения такой диаграммы используем метод [scatter_3d()](https://plotly.com/python-api-reference/generated/plotly.express.scatter_3d). Добавим несколько параметров:\n",
    "\n",
    "z — параметр по оси аппликат;\n",
    "log_x — установка логарифмического масштаба по оси x;\n",
    "log_y — установка логарифмического масштаба по оси y.\n",
    "Чтобы не перегрузить график, будем строить зависимость только в нескольких странах: США, России, Великобритании, Бразилии и Франции. Наблюдения для каждой страны окрасим разными цветами."
   ]
  },
  {
   "cell_type": "code",
   "execution_count": null,
   "metadata": {},
   "outputs": [],
   "source": [
    "# фильтруем таблицу по странам\n",
    "counties = ['United States', 'Russia', 'United Kingdom', 'Brazil', 'France']\n",
    "scatter_data = covid_df[covid_df['country'].isin(countries)]\n",
    "\n",
    "# Строим график\n",
    "fig = px.scatter_3d(\n",
    "    data_frame=scatter_data,\n",
    "    x='daily_confirmed',\n",
    "    y='daily_deaths',\n",
    "    z='daily_vaccinations',\n",
    "    color='country',\n",
    "    log_x=True,\n",
    "    log_y=True,\n",
    "    width=1000,\n",
    "    height=700\n",
    ")\n",
    "fig.show()\n",
    "fig.write_html('plotly/scatter_3d.html')"
   ]
  },
  {
   "cell_type": "markdown",
   "metadata": {},
   "source": [
    " В библиотеке Plotly насчитываются десятки различных графиков и сотни возможных настроек к ним. В этом юните мы лишь прикоснулись к этой сокровищнице, погружаться ли в неё с головой — решать вам.\n",
    "\n",
    "Принципы построения других базовых типов графиков вы можете найти [здесь](https://plotly.com/python/basic-charts/), а все способы визуализации статистических показателей и зависимостей перечислены [здесь](https://plotly.com/python/statistical-charts/)."
   ]
  },
  {
   "cell_type": "code",
   "execution_count": null,
   "metadata": {},
   "outputs": [],
   "source": [
    "covid_df.info()"
   ]
  },
  {
   "cell_type": "code",
   "execution_count": null,
   "metadata": {},
   "outputs": [],
   "source": [
    "covid_df['date'] = pd.to_datetime(covid_df['date'])"
   ]
  },
  {
   "cell_type": "code",
   "execution_count": null,
   "metadata": {},
   "outputs": [],
   "source": [
    "covid_df.info()"
   ]
  },
  {
   "cell_type": "code",
   "execution_count": null,
   "metadata": {},
   "outputs": [],
   "source": [
    "vaccine_date = covid_df.groupby('date', as_index=False)['daily_vaccinations'].sum()\n",
    "fig = px.line(\n",
    "    data_frame=vaccine_date,\n",
    "    x='date',\n",
    "    y='daily_vaccinations',\n",
    "    width=1000,\n",
    "    height=500\n",
    ")\n",
    "fig.show()"
   ]
  },
  {
   "cell_type": "code",
   "execution_count": null,
   "metadata": {},
   "outputs": [
    {
     "ename": "NameError",
     "evalue": "name 'covid_df' is not defined",
     "output_type": "error",
     "traceback": [
      "\u001b[1;31m---------------------------------------------------------------------------\u001b[0m",
      "\u001b[1;31mNameError\u001b[0m                                 Traceback (most recent call last)",
      "Cell \u001b[1;32mIn[3], line 1\u001b[0m\n\u001b[1;32m----> 1\u001b[0m choropleth_data \u001b[39m=\u001b[39m covid_df\u001b[39m.\u001b[39msort_values(by\u001b[39m=\u001b[39m\u001b[39m'\u001b[39m\u001b[39mdate\u001b[39m\u001b[39m'\u001b[39m)\n\u001b[0;32m      2\u001b[0m choropleth_data[\u001b[39m'\u001b[39m\u001b[39mdate\u001b[39m\u001b[39m'\u001b[39m] \u001b[39m=\u001b[39m choropleth_data[\u001b[39m'\u001b[39m\u001b[39mdate\u001b[39m\u001b[39m'\u001b[39m]\u001b[39m.\u001b[39mastype(\u001b[39m'\u001b[39m\u001b[39mstring\u001b[39m\u001b[39m'\u001b[39m)\n\u001b[0;32m      3\u001b[0m fig \u001b[39m=\u001b[39m px\u001b[39m.\u001b[39mchoropleth(\n\u001b[0;32m      4\u001b[0m     data_frame\u001b[39m=\u001b[39mchoropleth_data, \u001b[39m#DataFrame\u001b[39;00m\n\u001b[0;32m      5\u001b[0m     locations\u001b[39m=\u001b[39m\u001b[39m\"\u001b[39m\u001b[39mcountry\u001b[39m\u001b[39m\"\u001b[39m, \u001b[39m#столбец с локациями\u001b[39;00m\n\u001b[1;32m   (...)\u001b[0m\n\u001b[0;32m     11\u001b[0m     range_color\u001b[39m=\u001b[39m[\u001b[39m0\u001b[39m, \u001b[39m600e6\u001b[39m] \u001b[39m#диапазон цвета\u001b[39;00m\n\u001b[0;32m     12\u001b[0m )\n",
      "\u001b[1;31mNameError\u001b[0m: name 'covid_df' is not defined"
     ]
    }
   ],
   "source": [
    "choropleth_data = covid_df.sort_values(by='date')\n",
    "choropleth_data['date'] = choropleth_data['date'].astype('string')\n",
    "fig = px.choropleth(\n",
    "    data_frame=choropleth_data, #DataFrame\n",
    "    locations=\"country\", #столбец с локациями\n",
    "    locationmode = \"country names\", #режим сопоставления локаций с базой Plotly\n",
    "    color=\"total_vaccinations\", #от чего зависит цвет\n",
    "    hover_name=\"country\", #группирующая переменная\n",
    "    animation_frame=\"date\", #анимационный бегунок\n",
    "    color_continuous_scale='Reds', #палитра цветов\n",
    "    range_color=[0, 600e6] #диапазон цвета\n",
    ")\n",
    "\n",
    "fig.show(renderer='notebook')"
   ]
  },
  {
   "cell_type": "code",
   "execution_count": null,
   "metadata": {},
   "outputs": [],
   "source": [
    "covid_df[covid_df['country']== 'Afghanistan']"
   ]
  },
  {
   "cell_type": "code",
   "execution_count": null,
   "metadata": {},
   "outputs": [],
   "source": [
    "scatter_df"
   ]
  },
  {
   "cell_type": "code",
   "execution_count": null,
   "metadata": {},
   "outputs": [],
   "source": [
    "scatter_df = covid_df.sort_values(by='date')\n",
    "scatter_df['date'] = covid_df['date'].astype('string')\n",
    "fig = px.scatter(data_frame = scatter_df,\n",
    "                    x='confirmed',\n",
    "                    y='deaths',\n",
    "                    color='country',\n",
    "                    size='recovered',\n",
    "                    hover_name='country',\n",
    "                    animation_frame='date')\n",
    "fig.show()"
   ]
  },
  {
   "cell_type": "code",
   "execution_count": null,
   "metadata": {},
   "outputs": [],
   "source": []
  }
 ],
 "metadata": {
  "kernelspec": {
   "display_name": "Python 3 (ipykernel)",
   "language": "python",
   "name": "python3"
  },
  "language_info": {
   "codemirror_mode": {
    "name": "ipython",
    "version": 3
   },
   "file_extension": ".py",
   "mimetype": "text/x-python",
   "name": "python",
   "nbconvert_exporter": "python",
   "pygments_lexer": "ipython3",
   "version": "3.11.3"
  },
  "vscode": {
   "interpreter": {
    "hash": "c0e5bcc088504bf8477adc717f83acd6331155fd4668fe938c861902259f240d"
   }
  }
 },
 "nbformat": 4,
 "nbformat_minor": 2
}
